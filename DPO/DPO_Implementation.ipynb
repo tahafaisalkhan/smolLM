{
 "cells": [
  {
   "cell_type": "markdown",
   "id": "611135d2",
   "metadata": {},
   "source": [
    "# DPO"
   ]
  },
  {
   "cell_type": "markdown",
   "id": "d22c1401",
   "metadata": {},
   "source": [
    "## Setup"
   ]
  },
  {
   "cell_type": "markdown",
   "id": "13f87edd",
   "metadata": {},
   "source": [
    "### Imports"
   ]
  },
  {
   "cell_type": "code",
   "execution_count": 1,
   "id": "f8511ab3",
   "metadata": {
    "execution": {
     "iopub.execute_input": "2025-05-03T12:32:31.872359Z",
     "iopub.status.busy": "2025-05-03T12:32:31.871863Z",
     "iopub.status.idle": "2025-05-03T12:32:43.088247Z",
     "shell.execute_reply": "2025-05-03T12:32:43.087665Z",
     "shell.execute_reply.started": "2025-05-03T12:32:31.872337Z"
    },
    "trusted": true
   },
   "outputs": [
    {
     "name": "stderr",
     "output_type": "stream",
     "text": [
      "[nltk_data] Downloading package averaged_perceptron_tagger_eng to\n",
      "[nltk_data]     /usr/share/nltk_data...\n",
      "[nltk_data]   Unzipping taggers/averaged_perceptron_tagger_eng.zip.\n"
     ]
    }
   ],
   "source": [
    "import torch\n",
    "import torch.nn as nn\n",
    "import torch.nn.functional as F\n",
    "from torch.utils.data import DataLoader\n",
    "import math\n",
    "import matplotlib.pyplot as plt\n",
    "import pandas as pd\n",
    "import numpy as np\n",
    "from tqdm.notebook import tqdm\n",
    "import re\n",
    "import random\n",
    "import string\n",
    "import nltk\n",
    "nltk.download('averaged_perceptron_tagger_eng')\n",
    "from nltk.corpus import stopwords\n",
    "from nltk import pos_tag, word_tokenize\n",
    "# For tokenization and dataset loading\n",
    "from transformers import AutoTokenizer\n",
    "from datasets import load_dataset"
   ]
  },
  {
   "cell_type": "code",
   "execution_count": 2,
   "id": "731cfac1",
   "metadata": {
    "execution": {
     "iopub.execute_input": "2025-05-03T12:32:43.090249Z",
     "iopub.status.busy": "2025-05-03T12:32:43.089551Z",
     "iopub.status.idle": "2025-05-03T12:32:43.100105Z",
     "shell.execute_reply": "2025-05-03T12:32:43.099476Z",
     "shell.execute_reply.started": "2025-05-03T12:32:43.090229Z"
    },
    "trusted": true
   },
   "outputs": [
    {
     "data": {
      "text/plain": [
       "<torch._C.Generator at 0x78ce941101d0>"
      ]
     },
     "execution_count": 2,
     "metadata": {},
     "output_type": "execute_result"
    }
   ],
   "source": [
    "torch.manual_seed(42)"
   ]
  },
  {
   "cell_type": "markdown",
   "id": "d7fb9659",
   "metadata": {},
   "source": [
    "### Initializing device here for future use if needed"
   ]
  },
  {
   "cell_type": "code",
   "execution_count": 3,
   "id": "9c916a30",
   "metadata": {
    "execution": {
     "iopub.execute_input": "2025-05-03T12:32:43.101278Z",
     "iopub.status.busy": "2025-05-03T12:32:43.100864Z",
     "iopub.status.idle": "2025-05-03T12:32:43.170569Z",
     "shell.execute_reply": "2025-05-03T12:32:43.169927Z",
     "shell.execute_reply.started": "2025-05-03T12:32:43.101259Z"
    },
    "trusted": true
   },
   "outputs": [
    {
     "data": {
      "text/plain": [
       "device(type='cuda')"
      ]
     },
     "execution_count": 3,
     "metadata": {},
     "output_type": "execute_result"
    }
   ],
   "source": [
    "device = torch.device(\"cuda\" if torch.cuda.is_available() else \"cpu\")\n",
    "device"
   ]
  },
  {
   "cell_type": "code",
   "execution_count": 4,
   "id": "619ca1e8",
   "metadata": {
    "execution": {
     "iopub.execute_input": "2025-05-03T12:32:43.172250Z",
     "iopub.status.busy": "2025-05-03T12:32:43.172029Z",
     "iopub.status.idle": "2025-05-03T12:32:43.185513Z",
     "shell.execute_reply": "2025-05-03T12:32:43.184946Z",
     "shell.execute_reply.started": "2025-05-03T12:32:43.172234Z"
    },
    "trusted": true
   },
   "outputs": [],
   "source": [
    "from dataclasses import dataclass\n",
    "\n",
    "@dataclass\n",
    "class smolConfig:\n",
    "    vocab_size = 49152\n",
    "    hidden_size = 576\n",
    "    intermediate_size = 1536\n",
    "    num_hidden_layers = 30\n",
    "    num_heads = 9\n",
    "    kv_heads = 3"
   ]
  },
  {
   "cell_type": "code",
   "execution_count": 5,
   "id": "522a51e0",
   "metadata": {
    "execution": {
     "iopub.execute_input": "2025-05-03T12:32:43.186435Z",
     "iopub.status.busy": "2025-05-03T12:32:43.186174Z",
     "iopub.status.idle": "2025-05-03T12:32:43.206508Z",
     "shell.execute_reply": "2025-05-03T12:32:43.205754Z",
     "shell.execute_reply.started": "2025-05-03T12:32:43.186413Z"
    },
    "trusted": true
   },
   "outputs": [],
   "source": [
    "def rotate_half(x):\n",
    "    \"\"\"\n",
    "    Helper function to rotate the left half of a tensor along its final dimension.\n",
    "    \"\"\"\n",
    "    x1 = x[..., : x.shape[-1] // 2]\n",
    "    x2 = x[..., x.shape[-1] // 2 :]\n",
    "\n",
    "    return torch.cat((-x2, x1), dim=-1)\n",
    "\n",
    "def apply_rotary_pos_emb(q, k, cos, sin, position_ids=None, unsqueeze_dim=1):\n",
    "    \"\"\"\n",
    "    Applies RoPE on the query and key tensors.\n",
    "    \"\"\"\n",
    "    cos, sin = cos.to(q.device), sin.to(q.device)\n",
    "\n",
    "    # Unsqueexzing to enable broadcasting\n",
    "    sin = sin.unsqueeze(unsqueeze_dim)\n",
    "    cos = cos.unsqueeze(unsqueeze_dim)\n",
    "\n",
    "    q_embed = (q * cos) + (rotate_half(q) * sin)\n",
    "    k_embed = (k * cos) + (rotate_half(k) * sin)\n",
    "\n",
    "    return q_embed, k_embed\n",
    "\n",
    "class RotaryEmbedder(nn.Module):\n",
    "    def __init__(self, dim, base):\n",
    "        super().__init__()\n",
    "        # Precompute frequency for sine/cosine embeddings\n",
    "        self.freq = 1.0 / (base ** (torch.arange(0, dim, 2, dtype=torch.float32) / dim))\n",
    "\n",
    "    @torch.no_grad()\n",
    "    def forward(self, x):\n",
    "        # Generate positions (sequence indices) for the input\n",
    "        pos = torch.arange(x.shape[-2], dtype=torch.long)\n",
    "        # Compute angles for sine and cosine embeddings\n",
    "        angles = torch.einsum(\"p,f->pf\", pos.float(), self.freq).unsqueeze(dim=0)\n",
    "        # Duplicate angles for sine and cosine embeddings\n",
    "        emb = torch.cat((angles, angles), dim=-1)\n",
    "        # Return cosine and sine components of the positional embeddings\n",
    "        return emb.cos(), emb.sin()\n",
    "\n",
    "class GroupedQueryAttention(nn.Module):\n",
    "    def __init__(self, config):\n",
    "        super().__init__()\n",
    "        # Model dimensions and attention configurations\n",
    "        self.hidden_size = config.hidden_size\n",
    "        self.num_heads = config.num_heads\n",
    "        self.head_dim = config.hidden_size // self.num_heads\n",
    "        self.kv_heads = config.kv_heads  # Number of key-value heads\n",
    "        self.rope_theta = 10000.0  # Scaling factor for rotary embeddings\n",
    "\n",
    "        # Linear projections for queries, keys, values, and output\n",
    "        self.q_proj = nn.Linear(config.hidden_size, self.num_heads * self.head_dim, bias=False)\n",
    "        self.k_proj = nn.Linear(config.hidden_size, self.kv_heads * self.head_dim, bias=False)\n",
    "        self.v_proj = nn.Linear(config.hidden_size, self.kv_heads * self.head_dim, bias=False)\n",
    "        self.o_proj = nn.Linear(config.hidden_size, config.hidden_size, bias=False)\n",
    "\n",
    "        # Rotary embedding generator\n",
    "        self.rotary_emb = RotaryEmbedder(base=self.rope_theta, dim=self.head_dim)\n",
    "\n",
    "    def _repeat_kv(self, x, n_rep):\n",
    "        batch, num_key_value_heads, slen, head_dim = x.shape\n",
    "        # Expand the number of key-value heads by repeating them\n",
    "        x = x[:, :, None, :, :].expand(\n",
    "            batch, num_key_value_heads, n_rep, slen, head_dim\n",
    "        )\n",
    "        # Reshape to align with the expected multi-head attention format\n",
    "        return x.reshape(batch, num_key_value_heads * n_rep, slen, head_dim)\n",
    "\n",
    "    def forward(self, x: torch.Tensor, attention_mask=None):\n",
    "        # Input dimensions: (batch_size, seq_len, hidden_size)\n",
    "        b, q, _ = x.size()\n",
    "\n",
    "        # Project input hidden states into queries, keys, and values\n",
    "        q_states = self.q_proj(x)\n",
    "        k_states = self.k_proj(x)\n",
    "        v_states = self.v_proj(x)\n",
    "\n",
    "        # Reshape and transpose for multi-head attention\n",
    "        q_states = q_states.view(b, q, self.num_heads, self.head_dim).transpose(1, 2)\n",
    "        k_states = k_states.view(b, q, self.kv_heads, self.head_dim).transpose(1, 2)\n",
    "        v_states = v_states.view(b, q, self.kv_heads, self.head_dim).transpose(1, 2)\n",
    "\n",
    "        # Compute rotary positional embeddings\n",
    "        cos, sin = self.rotary_emb(q_states)\n",
    "        cos = cos.to(q_states.device)\n",
    "        sin = sin.to(q_states.device)\n",
    "        # Apply positional embeddings to queries and keys\n",
    "        q_states, k_states = apply_rotary_pos_emb(q_states, k_states, cos, sin)\n",
    "\n",
    "        # Repeat key and value tensors to match the number of query heads\n",
    "        __kv_groups = self.num_heads // self.kv_heads\n",
    "        k_states = self._repeat_kv(k_states, __kv_groups)\n",
    "        v_states = self._repeat_kv(v_states, __kv_groups)\n",
    "\n",
    "        # Compute attention scores (scaled dot-product attention)\n",
    "        attn_weights = torch.matmul(q_states, k_states.transpose(2, 3)) / math.sqrt(self.head_dim)\n",
    "\n",
    "        # Add attention mask (e.g., for causal or padding masking)\n",
    "        attn_weights = attn_weights + attention_mask\n",
    "\n",
    "        # Normalize attention weights using softmax\n",
    "        attn_weights = nn.functional.softmax(attn_weights, dim=-1)\n",
    "        # Apply dropout to attention weights\n",
    "        attn_weights = nn.functional.dropout(attn_weights, 0)\n",
    "\n",
    "        # Compute attention output\n",
    "        attn_output = torch.matmul(attn_weights, v_states)\n",
    "        # Reshape and transpose back to original format\n",
    "        attn_output = attn_output.transpose(1, 2).contiguous()\n",
    "        attn_output = attn_output.reshape(b, q, -1)\n",
    "\n",
    "        # Project the attention output back to the hidden size\n",
    "        attn_output = self.o_proj(attn_output)\n",
    "\n",
    "        # Return the final attention output\n",
    "        return attn_output"
   ]
  },
  {
   "cell_type": "code",
   "execution_count": 6,
   "id": "ddcf7ef6",
   "metadata": {
    "execution": {
     "iopub.execute_input": "2025-05-03T12:32:43.207490Z",
     "iopub.status.busy": "2025-05-03T12:32:43.207227Z",
     "iopub.status.idle": "2025-05-03T12:32:43.219532Z",
     "shell.execute_reply": "2025-05-03T12:32:43.218988Z",
     "shell.execute_reply.started": "2025-05-03T12:32:43.207465Z"
    },
    "trusted": true
   },
   "outputs": [],
   "source": [
    "torch.manual_seed(42)\n",
    "\n",
    "class RMSNorm(nn.Module):\n",
    "    def __init__(self, hidden_size, eps=1e-6):\n",
    "        \"\"\"\n",
    "        This is the Root Mean Square Normalisation class.\n",
    "        \"\"\"\n",
    "        super().__init__()\n",
    "        self.weight = nn.Parameter(torch.ones(hidden_size))  # Learnable scaling factor\n",
    "        self.variance_epsilon = eps\n",
    "\n",
    "    def forward(self, x):\n",
    "        # Calculate variance along the last dimension (hidden size)\n",
    "        variance = x.pow(2).mean(-1, keepdim=True)\n",
    "\n",
    "        # Normalize and scale\n",
    "        x = x * torch.rsqrt(variance + self.variance_epsilon)\n",
    "        return self.weight * x\n",
    "\n",
    "class MLP(nn.Module):\n",
    "    def __init__(self, hidden_size, intermediate_size):\n",
    "        \"\"\"\n",
    "        This is the gated MLP from the LLaMa architecture. Here we use the SiLU acitvation.\n",
    "        \"\"\"\n",
    "        super().__init__()\n",
    "        self.hidden_size = hidden_size\n",
    "        self.intermediate_size = intermediate_size\n",
    "        self.activation = nn.modules.activation.SiLU()\n",
    "\n",
    "        self.up_proj = nn.Linear(self.hidden_size, self.intermediate_size, bias=False)\n",
    "        self.down_proj = nn.Linear(self.intermediate_size, self.hidden_size, bias=False)\n",
    "        self.gate_proj = nn.Linear(self.hidden_size, self.intermediate_size, bias=False)\n",
    "\n",
    "    def forward(self, x):\n",
    "        down_proj = self.down_proj(self.activation(self.gate_proj(x)) * self.up_proj(x))\n",
    "        return down_proj\n",
    "\n",
    "class LlamaDecoder(nn.Module):\n",
    "    def __init__(self, config):\n",
    "        super().__init__()\n",
    "        \"\"\"\n",
    "        This is the Llama decoder block.\n",
    "        \"\"\"\n",
    "        # Self Attention Module\n",
    "        self.self_attn = GroupedQueryAttention(config)\n",
    "\n",
    "        # FFN Module\n",
    "        self.mlp = MLP(hidden_size=config.hidden_size, intermediate_size=config.intermediate_size)\n",
    "\n",
    "        # Pre Attention and Post Attention normalisation\n",
    "        self.input_layernorm = RMSNorm(config.hidden_size, eps=1e-05)\n",
    "        self.post_attention_layernorm = RMSNorm(config.hidden_size, eps=1e-05)\n",
    "\n",
    "    def forward(self, x, attention_mask):\n",
    "        # Skip connection cache\n",
    "\n",
    "        residual = x\n",
    "\n",
    "        # Pre-attention normalisation\n",
    "        x = self.input_layernorm(x)\n",
    "\n",
    "        # A causal attention mask (i.e., decoder can only look at tokens that it has generated thus far)\n",
    "        attention_mask = torch.triu(torch.full((attention_mask.shape[-1], attention_mask.shape[-1]),\n",
    "                                               fill_value=float('-inf')), diagonal=1)\n",
    "\n",
    "        attention_mask = attention_mask.to(x.device)\n",
    "\n",
    "        # Self-attention block\n",
    "        x = self.self_attn(x=x,attention_mask=attention_mask)\n",
    "        x += residual\n",
    "\n",
    "        # Skip connection cache for MLP\n",
    "        residual = x\n",
    "\n",
    "        # Pre-MLP normalisation\n",
    "        x = self.post_attention_layernorm(x)\n",
    "\n",
    "        # MLP block\n",
    "        x = self.mlp(x)\n",
    "        x += residual\n",
    "\n",
    "        return x"
   ]
  },
  {
   "cell_type": "code",
   "execution_count": 7,
   "id": "a45248cf",
   "metadata": {
    "execution": {
     "iopub.execute_input": "2025-05-03T12:32:43.220793Z",
     "iopub.status.busy": "2025-05-03T12:32:43.220537Z",
     "iopub.status.idle": "2025-05-03T12:32:43.237630Z",
     "shell.execute_reply": "2025-05-03T12:32:43.236916Z",
     "shell.execute_reply.started": "2025-05-03T12:32:43.220776Z"
    },
    "trusted": true
   },
   "outputs": [],
   "source": [
    "torch.manual_seed(42)\n",
    "\n",
    "class smolModel(nn.Module):\n",
    "    def __init__(self, config):\n",
    "        super().__init__()\n",
    "        # embedding layer which maps each token to a vector embedding\n",
    "        self.embed_tokens = nn.Embedding(\n",
    "            num_embeddings=config.vocab_size,\n",
    "            embedding_dim=config.hidden_size\n",
    "        )\n",
    "\n",
    "        # Stack of decoder layers (LlamaDecoder) defined by the configuration\n",
    "        self.layers = nn.ModuleList([\n",
    "            LlamaDecoder(config) for _ in range(config.num_hidden_layers)\n",
    "        ])\n",
    "\n",
    "        # RMSNorm: final layer normalization applied to hidden states\n",
    "        self.norm = RMSNorm(config.hidden_size, eps=1e-05)\n",
    "\n",
    "    def forward(self, input_ids=None, attention_mask=None):\n",
    "        inputs_embeds = self.embed_tokens(input_ids)\n",
    "        x = inputs_embeds\n",
    "\n",
    "        # Pass embeddings through each decoder layer\n",
    "        for i, decoder_layer in enumerate(self.layers):\n",
    "            layer_outputs = decoder_layer(\n",
    "                x,\n",
    "                attention_mask=attention_mask\n",
    "            )\n",
    "            x = layer_outputs\n",
    "\n",
    "        # Final normalisation\n",
    "        x = self.norm(x)\n",
    "\n",
    "        return x\n",
    "\n",
    "class smolLM(nn.Module):\n",
    "    \"\"\"\n",
    "    This is the Language Model.\n",
    "    It passes the embeddings from the SmolLM backbone into a LM head.\n",
    "    The LM head generates logits over the space of the entire vocabulary for next word prediction.\n",
    "    \"\"\"\n",
    "    def __init__(self, config):\n",
    "        super().__init__()\n",
    "        # SmolLM backbone which generates the contextualised embeddings for the input tokens\n",
    "        self.model = smolModel(config)\n",
    "        # The LM head which maps embeddings to logits over the vocabulary\n",
    "        self.lm_head = nn.Linear(config.hidden_size, config.vocab_size, bias=False)\n",
    "        # weights between LM head and the token_embedding layer are shared in the SmolLM architecture\n",
    "        self.tie_weights()\n",
    "\n",
    "    def tie_weights(self):\n",
    "        # lm_head shares weights with the embedding layer\n",
    "        self.lm_head.weight = self.model.embed_tokens.weight\n",
    "\n",
    "    def forward(self, input_ids, attention_mask):\n",
    "        # Input tokens are passed to the SmolLM backbone\n",
    "        outputs = self.model(\n",
    "            input_ids=input_ids,\n",
    "            attention_mask=attention_mask,\n",
    "        )\n",
    "        # embeddings corresponding to each input token => (batch_size, seq_len, emb_dim)\n",
    "        x = outputs\n",
    "\n",
    "        # pass the embeddings through the LM head\n",
    "        logits = self.lm_head(x).float()\n",
    "        return {'logits': logits}"
   ]
  },
  {
   "cell_type": "code",
   "execution_count": 8,
   "id": "21b63ef3",
   "metadata": {
    "execution": {
     "iopub.execute_input": "2025-05-03T12:32:43.238883Z",
     "iopub.status.busy": "2025-05-03T12:32:43.238404Z",
     "iopub.status.idle": "2025-05-03T12:32:43.255321Z",
     "shell.execute_reply": "2025-05-03T12:32:43.254657Z",
     "shell.execute_reply.started": "2025-05-03T12:32:43.238856Z"
    },
    "trusted": true
   },
   "outputs": [],
   "source": [
    "def __generate(model, inputs, num_tokens, tokenizer, max_length=50):\n",
    "    \"\"\"\n",
    "    A basic greedy approach for text generation.\n",
    "    \"\"\"\n",
    "    collect = []\n",
    "    for _ in range(num_tokens):\n",
    "        output = model(**inputs)\n",
    "        output_id = torch.argmax(output['logits'][0, -1]).item()\n",
    "        collect.append(output_id)\n",
    "        if output_id == tokenizer.eos_token_id or len(collect) >= max_length:\n",
    "            break\n",
    "        # Update input_ids and attention_mask\n",
    "        new_token = torch.tensor([output_id], device=inputs['input_ids'].device)\n",
    "        inputs['input_ids'] = torch.cat([inputs['input_ids'][0], new_token]).unsqueeze(0)\n",
    "        inputs['attention_mask'] = F.pad(inputs['attention_mask'], (0, 1), value=1)\n",
    "    return tokenizer.convert_tokens_to_string(tokenizer.convert_ids_to_tokens(collect))"
   ]
  },
  {
   "cell_type": "markdown",
   "id": "81ab8861",
   "metadata": {},
   "source": [
    "## Preference Optimization"
   ]
  },
  {
   "cell_type": "markdown",
   "id": "b59cbc1d",
   "metadata": {},
   "source": [
    "#### Loading Models\n",
    "\n",
    "We need to load a policy model and a reference model. Both models will be initiliazed from the finetuned model weights. We need to freeze the reference model so that it does not get updated during training. The policy model will be updated using DPO."
   ]
  },
  {
   "cell_type": "code",
   "execution_count": null,
   "id": "55fe5539",
   "metadata": {
    "execution": {
     "iopub.execute_input": "2025-05-03T12:32:43.256249Z",
     "iopub.status.busy": "2025-05-03T12:32:43.256038Z",
     "iopub.status.idle": "2025-05-03T12:32:50.920104Z",
     "shell.execute_reply": "2025-05-03T12:32:50.919486Z",
     "shell.execute_reply.started": "2025-05-03T12:32:43.256233Z"
    },
    "trusted": true
   },
   "outputs": [
    {
     "data": {
      "text/plain": [
       "smolLM(\n",
       "  (model): smolModel(\n",
       "    (embed_tokens): Embedding(49152, 576)\n",
       "    (layers): ModuleList(\n",
       "      (0-29): 30 x LlamaDecoder(\n",
       "        (self_attn): GroupedQueryAttention(\n",
       "          (q_proj): Linear(in_features=576, out_features=576, bias=False)\n",
       "          (k_proj): Linear(in_features=576, out_features=192, bias=False)\n",
       "          (v_proj): Linear(in_features=576, out_features=192, bias=False)\n",
       "          (o_proj): Linear(in_features=576, out_features=576, bias=False)\n",
       "          (rotary_emb): RotaryEmbedder()\n",
       "        )\n",
       "        (mlp): MLP(\n",
       "          (activation): SiLU()\n",
       "          (up_proj): Linear(in_features=576, out_features=1536, bias=False)\n",
       "          (down_proj): Linear(in_features=1536, out_features=576, bias=False)\n",
       "          (gate_proj): Linear(in_features=576, out_features=1536, bias=False)\n",
       "        )\n",
       "        (input_layernorm): RMSNorm()\n",
       "        (post_attention_layernorm): RMSNorm()\n",
       "      )\n",
       "    )\n",
       "    (norm): RMSNorm()\n",
       "  )\n",
       "  (lm_head): Linear(in_features=576, out_features=49152, bias=False)\n",
       ")"
      ]
     },
     "execution_count": 9,
     "metadata": {},
     "output_type": "execute_result"
    }
   ],
   "source": [
    "# Load model config\n",
    "config = smolConfig()\n",
    "path = '/kaggle/input/fully_fine_tuned_model/pytorch/default/1/full_finetuned_smolLM.pth'\n",
    "\n",
    "# TODO: Initiliaze the policy model and load the weights\n",
    "policy_model = smolLM(config)\n",
    "state_dict = torch.load(path, map_location=device)\n",
    "policy_model.load_state_dict(state_dict)\n",
    "\n",
    "# TODO: Initialize the reference model and load the weights\n",
    "reference_model = smolLM(config)\n",
    "reference_model.load_state_dict(state_dict)\n",
    "reference_model.eval()\n",
    "\n",
    "# TODO: Freeze all parameters in the reference model\n",
    "for param in reference_model.parameters():\n",
    "    param.requires_grad = False\n",
    "\n",
    "# Move the models to the appropriate device (GPU or CPU)\n",
    "policy_model.to(device)\n",
    "reference_model.to(device)"
   ]
  },
  {
   "cell_type": "markdown",
   "id": "b6ac3bd7",
   "metadata": {},
   "source": [
    "Next, we will need to freeze part of the policy model to make training feasible on your devices. You just need to run the code in this section. Before you ask on slack, you are allowed to change the number of layers to freeze to reduce training time, debug or for any other reason. You can also comment out the code block entirely should you wish to train the entire model. However, you will be graded on whether your preference accuracy increases at the end, so keep that in mind."
   ]
  },
  {
   "cell_type": "code",
   "execution_count": 10,
   "id": "6dddfbe8",
   "metadata": {
    "execution": {
     "iopub.execute_input": "2025-05-03T12:32:50.922401Z",
     "iopub.status.busy": "2025-05-03T12:32:50.922173Z",
     "iopub.status.idle": "2025-05-03T12:32:50.928294Z",
     "shell.execute_reply": "2025-05-03T12:32:50.927725Z",
     "shell.execute_reply.started": "2025-05-03T12:32:50.922385Z"
    },
    "trusted": true
   },
   "outputs": [],
   "source": [
    "layers_to_freeze = 25\n",
    "\n",
    "for name, param in policy_model.named_parameters():\n",
    "    if name.startswith(\"model.embed_tokens\"):\n",
    "        param.requires_grad = False\n",
    "    elif name.startswith(\"model.norm\"):\n",
    "        param.requires_grad = False\n",
    "    elif name.startswith(\"lm_head\"):\n",
    "        param.requires_grad = True\n",
    "    elif name.startswith(\"model.layers.\"):\n",
    "        layer_num = int(name.split(\".\")[2])\n",
    "        if layer_num < layers_to_freeze:\n",
    "            param.requires_grad = False\n",
    "        else:\n",
    "            param.requires_grad = True\n",
    "    else:\n",
    "        param.requires_grad = True"
   ]
  },
  {
   "cell_type": "markdown",
   "id": "f0ca70c8",
   "metadata": {},
   "source": [
    "Checking number of trainable parameters."
   ]
  },
  {
   "cell_type": "code",
   "execution_count": 11,
   "id": "3cd9a905",
   "metadata": {
    "execution": {
     "iopub.execute_input": "2025-05-03T12:32:50.929306Z",
     "iopub.status.busy": "2025-05-03T12:32:50.929060Z",
     "iopub.status.idle": "2025-05-03T12:32:50.944669Z",
     "shell.execute_reply": "2025-05-03T12:32:50.943908Z",
     "shell.execute_reply.started": "2025-05-03T12:32:50.929289Z"
    },
    "trusted": true
   },
   "outputs": [
    {
     "name": "stdout",
     "output_type": "stream",
     "text": [
      "Trainable params: 17,700,480 / 134,515,008 (13.16%)\n"
     ]
    }
   ],
   "source": [
    "trainable_params = sum(p.numel()\n",
    "                       for p in policy_model.parameters() if p.requires_grad)\n",
    "total_params = sum(p.numel() for p in policy_model.parameters())\n",
    "print(\n",
    "    f\"Trainable params: {trainable_params:,} / {total_params:,} ({100 * trainable_params / total_params:.2f}%)\")"
   ]
  },
  {
   "cell_type": "markdown",
   "id": "e1fea974",
   "metadata": {},
   "source": [
    "#### Loading and Processing Dataset\n",
    "\n",
    "We load in the dataset and tokenizer and modify the dataset to fit our needs."
   ]
  },
  {
   "cell_type": "code",
   "execution_count": 12,
   "id": "77e45200",
   "metadata": {
    "execution": {
     "iopub.execute_input": "2025-05-03T12:32:50.946174Z",
     "iopub.status.busy": "2025-05-03T12:32:50.945534Z",
     "iopub.status.idle": "2025-05-03T12:32:57.005293Z",
     "shell.execute_reply": "2025-05-03T12:32:57.004462Z",
     "shell.execute_reply.started": "2025-05-03T12:32:50.946156Z"
    },
    "trusted": true
   },
   "outputs": [
    {
     "data": {
      "application/vnd.jupyter.widget-view+json": {
       "model_id": "9714e6a391824b4ea2185bbfe7a55204",
       "version_major": 2,
       "version_minor": 0
      },
      "text/plain": [
       "README.md:   0%|          | 0.00/478 [00:00<?, ?B/s]"
      ]
     },
     "metadata": {},
     "output_type": "display_data"
    },
    {
     "data": {
      "application/vnd.jupyter.widget-view+json": {
       "model_id": "87d337fe989841df83ba0e13e2070f55",
       "version_major": 2,
       "version_minor": 0
      },
      "text/plain": [
       "dataset_infos.json:   0%|          | 0.00/930 [00:00<?, ?B/s]"
      ]
     },
     "metadata": {},
     "output_type": "display_data"
    },
    {
     "data": {
      "application/vnd.jupyter.widget-view+json": {
       "model_id": "5d14c74bb16d42b8b45c682228c0f222",
       "version_major": 2,
       "version_minor": 0
      },
      "text/plain": [
       "(…)-00000-of-00001-8349d0765e6718df.parquet:   0%|          | 0.00/123M [00:00<?, ?B/s]"
      ]
     },
     "metadata": {},
     "output_type": "display_data"
    },
    {
     "data": {
      "application/vnd.jupyter.widget-view+json": {
       "model_id": "a743206baf8c4cd59f682b5beded5dc3",
       "version_major": 2,
       "version_minor": 0
      },
      "text/plain": [
       "(…)-00000-of-00001-ec71e9262143a91c.parquet:   0%|          | 0.00/13.6M [00:00<?, ?B/s]"
      ]
     },
     "metadata": {},
     "output_type": "display_data"
    },
    {
     "data": {
      "application/vnd.jupyter.widget-view+json": {
       "model_id": "c61c9ce51e0e4362ae6bed0597c8b856",
       "version_major": 2,
       "version_minor": 0
      },
      "text/plain": [
       "Generating train split:   0%|          | 0/112052 [00:00<?, ? examples/s]"
      ]
     },
     "metadata": {},
     "output_type": "display_data"
    },
    {
     "data": {
      "application/vnd.jupyter.widget-view+json": {
       "model_id": "4a1a6210ea404d27acd3d472d63dcd0b",
       "version_major": 2,
       "version_minor": 0
      },
      "text/plain": [
       "Generating test split:   0%|          | 0/12451 [00:00<?, ? examples/s]"
      ]
     },
     "metadata": {},
     "output_type": "display_data"
    },
    {
     "data": {
      "application/vnd.jupyter.widget-view+json": {
       "model_id": "d7ed596cebde4da680faffcb75735773",
       "version_major": 2,
       "version_minor": 0
      },
      "text/plain": [
       "tokenizer_config.json:   0%|          | 0.00/3.69k [00:00<?, ?B/s]"
      ]
     },
     "metadata": {},
     "output_type": "display_data"
    },
    {
     "data": {
      "application/vnd.jupyter.widget-view+json": {
       "model_id": "4b2aaab76d754555bcee93d6c8bfd34c",
       "version_major": 2,
       "version_minor": 0
      },
      "text/plain": [
       "vocab.json:   0%|          | 0.00/801k [00:00<?, ?B/s]"
      ]
     },
     "metadata": {},
     "output_type": "display_data"
    },
    {
     "data": {
      "application/vnd.jupyter.widget-view+json": {
       "model_id": "eed45751a74b461a81b301492489dbbf",
       "version_major": 2,
       "version_minor": 0
      },
      "text/plain": [
       "merges.txt:   0%|          | 0.00/466k [00:00<?, ?B/s]"
      ]
     },
     "metadata": {},
     "output_type": "display_data"
    },
    {
     "data": {
      "application/vnd.jupyter.widget-view+json": {
       "model_id": "96a364d677134e14bf41c247f901aeb9",
       "version_major": 2,
       "version_minor": 0
      },
      "text/plain": [
       "tokenizer.json:   0%|          | 0.00/2.10M [00:00<?, ?B/s]"
      ]
     },
     "metadata": {},
     "output_type": "display_data"
    },
    {
     "data": {
      "application/vnd.jupyter.widget-view+json": {
       "model_id": "97eaab36f53e4bff9433f16de6526c90",
       "version_major": 2,
       "version_minor": 0
      },
      "text/plain": [
       "special_tokens_map.json:   0%|          | 0.00/831 [00:00<?, ?B/s]"
      ]
     },
     "metadata": {},
     "output_type": "display_data"
    }
   ],
   "source": [
    "# Load dataset\n",
    "dpo_dataset = load_dataset(\"Dahoas/full-hh-rlhf\")\n",
    "\n",
    "# Use only a small subset for fast training\n",
    "data = dpo_dataset[\"train\"].shuffle(seed=42)\n",
    "\n",
    "# Initialize tokenizer\n",
    "tokenizer = AutoTokenizer.from_pretrained(\"HuggingFaceTB/SmolLM-135M\")\n",
    "\n",
    "# The tokenizer does not have a defined padding token, so we initialize our own as the EoS token.\n",
    "if tokenizer.pad_token is None:\n",
    "    tokenizer.pad_token = tokenizer.eos_token"
   ]
  },
  {
   "cell_type": "markdown",
   "id": "a534088e",
   "metadata": {},
   "source": [
    "To stabilize our training, we want to eliminate examples that may be redundant. Since we don't have preference scores in this dataset, you must think of a way to shortlist useful datapoints yourself. You can do this by analyzing the length of responses, looking for common phrases that may indicate weak choices, etc. You may also use a reward model, but that may prove to be too much work."
   ]
  },
  {
   "cell_type": "code",
   "execution_count": null,
   "id": "726ee4ae",
   "metadata": {
    "execution": {
     "iopub.execute_input": "2025-05-03T12:32:57.006517Z",
     "iopub.status.busy": "2025-05-03T12:32:57.006303Z",
     "iopub.status.idle": "2025-05-03T12:39:38.469101Z",
     "shell.execute_reply": "2025-05-03T12:39:38.468312Z",
     "shell.execute_reply.started": "2025-05-03T12:32:57.006500Z"
    },
    "trusted": true
   },
   "outputs": [
    {
     "data": {
      "application/vnd.jupyter.widget-view+json": {
       "model_id": "2e84516bb5574add95d8bb09034a38d6",
       "version_major": 2,
       "version_minor": 0
      },
      "text/plain": [
       "Filter:   0%|          | 0/112052 [00:00<?, ? examples/s]"
      ]
     },
     "metadata": {},
     "output_type": "display_data"
    },
    {
     "name": "stdout",
     "output_type": "stream",
     "text": [
      "Filtered down to 34460 / 112052 strong examples\n"
     ]
    }
   ],
   "source": [
    "# TODO: Define the function\n",
    "def is_strong_preference(example):\n",
    "    \"\"\"\n",
    "    Function to filter out weak preferences from the dataset.\n",
    "\n",
    "    Arguments:\n",
    "        example: A dictionary containing the prompt, chosen, and rejected completions.\n",
    "\n",
    "    Returns:\n",
    "        bool: True if the example is a strong preference, False otherwise.\n",
    "    \"\"\"\n",
    "    stop_words = set(stopwords.words('english'))\n",
    "    chosen = example.get(\"chosen\", \"\").strip()\n",
    "    rejected = example.get(\"rejected\", \"\").strip()\n",
    "\n",
    "    if len(chosen) < 60 or len(rejected) < 60:\n",
    "        return False\n",
    "    if abs(len(chosen) - len(rejected)) < 40:\n",
    "        return False\n",
    "\n",
    "    chosen_tokens = word_tokenize(chosen.lower())\n",
    "    rejected_tokens = word_tokenize(rejected.lower())\n",
    "    chosen_stop_count = 0\n",
    "    for word in chosen_tokens:\n",
    "        if word in stop_words:\n",
    "            chosen_stop_count += 1\n",
    "\n",
    "    rejected_stop_count = 0\n",
    "    for word in rejected_tokens:\n",
    "        if word in stop_words:\n",
    "            rejected_stop_count += 1\n",
    "\n",
    "    chosen_ratio = chosen_stop_count / (len(chosen_tokens) + 3e-8)\n",
    "    rejected_ratio = rejected_stop_count / (len(rejected_tokens) + 3e-8)\n",
    "    if chosen_ratio > 0.6 or rejected_ratio > 0.6:\n",
    "        return False\n",
    "\n",
    "    chosen_tags = pos_tag(chosen_tokens)\n",
    "    rejected_tags = pos_tag(rejected_tokens)\n",
    "    chosen_nv_count = 0\n",
    "    for word, tag in chosen_tags:\n",
    "        if tag.startswith(\"NN\") or tag.startswith(\"VB\"):\n",
    "            chosen_nv_count += 1\n",
    "\n",
    "    rejected_nv_count = 0\n",
    "    for word, tag in rejected_tags:\n",
    "        if tag.startswith(\"NN\") or tag.startswith(\"VB\"):\n",
    "            rejected_nv_count += 1\n",
    "\n",
    "    if chosen_nv_count <= rejected_nv_count:\n",
    "        return False\n",
    "    weak_phrases = [\"i don't know\", \"not sure\", \"maybe\",\"as an ai language model\", \"hope this helps\",\"i'm sorry\", \"i cannot\", \"i apologize\"]\n",
    "    chosen_lower = chosen.lower()\n",
    "    rejected_lower = rejected.lower()\n",
    "    for phrase in weak_phrases:\n",
    "        if phrase in chosen_lower or phrase in rejected_lower:\n",
    "            return False\n",
    "    return True\n",
    "\n",
    "\n",
    "strong_data = data.filter(is_strong_preference)\n",
    "\n",
    "print(\n",
    "    f\"Filtered down to {len(strong_data)} / {len(data)} strong examples\")\n"
   ]
  },
  {
   "cell_type": "code",
   "execution_count": 14,
   "id": "45090ef2",
   "metadata": {
    "execution": {
     "iopub.execute_input": "2025-05-03T12:39:38.470156Z",
     "iopub.status.busy": "2025-05-03T12:39:38.469908Z",
     "iopub.status.idle": "2025-05-03T12:39:38.482757Z",
     "shell.execute_reply": "2025-05-03T12:39:38.482059Z",
     "shell.execute_reply.started": "2025-05-03T12:39:38.470137Z"
    },
    "trusted": true
   },
   "outputs": [],
   "source": [
    "# NOTE: you can reduce the size for debugging but you should use all 1000 for the final submission\n",
    "split_size = 1000\n",
    "\n",
    "split = strong_data.select(range(split_size)).train_test_split(test_size=0.1, seed=42)\n",
    "train_data = split[\"train\"]\n",
    "test_data = split[\"test\"]"
   ]
  },
  {
   "cell_type": "markdown",
   "id": "46441907",
   "metadata": {},
   "source": [
    "Yes, you are allowed to change the batch size."
   ]
  },
  {
   "cell_type": "code",
   "execution_count": 15,
   "id": "df5b1273",
   "metadata": {
    "execution": {
     "iopub.execute_input": "2025-05-03T12:39:38.483860Z",
     "iopub.status.busy": "2025-05-03T12:39:38.483523Z",
     "iopub.status.idle": "2025-05-03T12:39:38.497347Z",
     "shell.execute_reply": "2025-05-03T12:39:38.496660Z",
     "shell.execute_reply.started": "2025-05-03T12:39:38.483843Z"
    },
    "trusted": true
   },
   "outputs": [],
   "source": [
    "class DPODataset(torch.utils.data.Dataset):\n",
    "    def __init__(self, raw_data):\n",
    "        self.data = raw_data\n",
    "\n",
    "    def __len__(self):\n",
    "        return len(self.data)\n",
    "\n",
    "    def __getitem__(self, idx):\n",
    "        item = self.data[idx]\n",
    "        return {\n",
    "            \"prompt\": item[\"prompt\"],\n",
    "            \"chosen\": item[\"chosen\"],\n",
    "            \"rejected\": item[\"rejected\"]\n",
    "        }\n",
    "\n",
    "train_loader = DataLoader(DPODataset(train_data), batch_size=8, shuffle=True)\n",
    "test_loader = DataLoader(DPODataset(test_data), batch_size=8)"
   ]
  },
  {
   "cell_type": "code",
   "execution_count": 16,
   "id": "30c15865",
   "metadata": {
    "execution": {
     "iopub.execute_input": "2025-05-03T12:39:38.498149Z",
     "iopub.status.busy": "2025-05-03T12:39:38.497959Z",
     "iopub.status.idle": "2025-05-03T12:39:38.509727Z",
     "shell.execute_reply": "2025-05-03T12:39:38.509084Z",
     "shell.execute_reply.started": "2025-05-03T12:39:38.498135Z"
    },
    "trusted": true
   },
   "outputs": [],
   "source": [
    "# TODO: Define the function\n",
    "def tokenize_pairs(prompts, responses):\n",
    "    \"\"\"\n",
    "    Tokenizes pairs of prompts and responses using the tokenizer.\n",
    "    \"\"\"\n",
    "    token_output = tokenizer(prompts,responses,padding=True,truncation=True,max_length=512,return_tensors=\"pt\")\n",
    "    return token_output"
   ]
  },
  {
   "cell_type": "markdown",
   "id": "8d6fab61",
   "metadata": {},
   "source": [
    "#### Loss Function "
   ]
  },
  {
   "cell_type": "code",
   "execution_count": null,
   "id": "08a58217",
   "metadata": {
    "execution": {
     "iopub.execute_input": "2025-05-03T12:39:38.510697Z",
     "iopub.status.busy": "2025-05-03T12:39:38.510358Z",
     "iopub.status.idle": "2025-05-03T12:39:38.523408Z",
     "shell.execute_reply": "2025-05-03T12:39:38.522815Z",
     "shell.execute_reply.started": "2025-05-03T12:39:38.510680Z"
    },
    "trusted": true
   },
   "outputs": [],
   "source": [
    "# TODO: Define the function\n",
    "def compute_logprob(model, input_ids, attention_mask):\n",
    "    \"\"\"\n",
    "    Computes the average log-probability per sample in a batch for causal language modeling.\n",
    "\n",
    "    Args:\n",
    "        model: A language model that outputs logits for next-token prediction.\n",
    "        input_ids (Tensor): Tensor of shape (batch_size, seq_len) containing token IDs.\n",
    "        attention_mask (Tensor): Tensor of shape (batch_size, seq_len) indicating non-padding tokens.\n",
    "\n",
    "    Returns:\n",
    "        Tensor of shape (batch_size,) containing average log-probabilities for each sample.\n",
    "    \"\"\"\n",
    "    outputs = model(input_ids=input_ids, attention_mask=attention_mask)\n",
    "    lt = outputs[\"logits\"]\n",
    "\n",
    "    lt = lt[:, slice(0, -1), :]\n",
    "    logpx = F.log_softmax(lt, dim=-1)\n",
    "\n",
    "    target_ids = input_ids[:, slice(1, input_ids.size(1))]\n",
    "    mask = attention_mask[:, 1:]\n",
    "    mask = mask.to(torch.float)\n",
    "\n",
    "    B, Tm1, V = logpx.shape\n",
    "    batch_idx = torch.arange(B, device=logpx.device).unsqueeze(1).expand(B, Tm1)\n",
    "    time_idx  = torch.arange(Tm1, device=logpx.device).unsqueeze(0).expand(B, Tm1)\n",
    "    token_probs = logpx[batch_idx, time_idx, target_ids]\n",
    "\n",
    "    mtokens = token_probs * mask\n",
    "    sum_logpob = mtokens.sum(dim=1)\n",
    "    lengths = mask.sum(dim=1).clamp(min=1)\n",
    "    return sum_logpob / lengths\n",
    "\n",
    "\n",
    "# TODO: Define the function\n",
    "def dpo_loss(policy_model, ref_model, chosen_inputs, rejected_inputs, beta=0.1):\n",
    "    \"\"\"\n",
    "    Computes the Direct Preference Optimization (DPO) loss for a batch.\n",
    "\n",
    "    Args:\n",
    "        policy_model: The trainable language model to align with human preferences.\n",
    "        ref_model: The frozen reference model (typically the SFT baseline).\n",
    "        chosen_inputs (dict): Tokenized inputs of (prompt + chosen response).\n",
    "        rejected_inputs (dict): Tokenized inputs of (prompt + rejected response).\n",
    "        beta (float): Scaling factor for the preference margin (contrast strength).\n",
    "\n",
    "    Returns:\n",
    "        A tuple of:\n",
    "            - Scalar loss averaged over the batch\n",
    "            - Logits difference vector (useful for accuracy or debugging)\n",
    "    \"\"\"\n",
    "    cpol = compute_logprob(policy_model, **chosen_inputs)\n",
    "    lpol = compute_logprob(policy_model, **rejected_inputs)\n",
    "    pol_delta = cpol - lpol\n",
    "\n",
    "    lp_c_ref = compute_logprob(ref_model, **chosen_inputs)\n",
    "    lp_r_ref = compute_logprob(ref_model, **rejected_inputs)\n",
    "    ref_delta = lp_c_ref - lp_r_ref\n",
    "\n",
    "    raw_diff = pol_delta - ref_delta\n",
    "    logits_difference = raw_diff * beta\n",
    "    loss = torch.log1p(torch.exp(-logits_difference)).mean() #log1p does ln(1 + x)\n",
    "    return loss, logits_difference"
   ]
  },
  {
   "cell_type": "markdown",
   "id": "dbe887b8",
   "metadata": {},
   "source": [
    "#### Training"
   ]
  },
  {
   "cell_type": "code",
   "execution_count": null,
   "id": "70729632",
   "metadata": {
    "execution": {
     "iopub.execute_input": "2025-05-03T12:39:38.524326Z",
     "iopub.status.busy": "2025-05-03T12:39:38.524073Z",
     "iopub.status.idle": "2025-05-03T12:41:56.300259Z",
     "shell.execute_reply": "2025-05-03T12:41:56.299379Z",
     "shell.execute_reply.started": "2025-05-03T12:39:38.524304Z"
    },
    "trusted": true
   },
   "outputs": [
    {
     "name": "stdout",
     "output_type": "stream",
     "text": [
      "Step 0 Batch Loss: 0.6931 Logits Diff: 0.0000 Running Loss: 0.6931\n",
      "Step 1 Batch Loss: 0.6805 Logits Diff: 0.0257 Running Loss: 0.6868\n",
      "Step 2 Batch Loss: 0.6716 Logits Diff: 0.0439 Running Loss: 0.6818\n",
      "Step 3 Batch Loss: 0.6639 Logits Diff: 0.0614 Running Loss: 0.6773\n",
      "Step 4 Batch Loss: 0.6539 Logits Diff: 0.0829 Running Loss: 0.6726\n",
      "Step 5 Batch Loss: 0.6267 Logits Diff: 0.1440 Running Loss: 0.6650\n",
      "Step 6 Batch Loss: 0.6583 Logits Diff: 0.0730 Running Loss: 0.6640\n",
      "Step 7 Batch Loss: 0.6264 Logits Diff: 0.1557 Running Loss: 0.6593\n",
      "Step 8 Batch Loss: 0.6066 Logits Diff: 0.1957 Running Loss: 0.6535\n",
      "Step 9 Batch Loss: 0.6216 Logits Diff: 0.1698 Running Loss: 0.6503\n",
      "Step 10 Batch Loss: 0.5571 Logits Diff: 0.3355 Running Loss: 0.6418\n",
      "Step 11 Batch Loss: 0.6340 Logits Diff: 0.1536 Running Loss: 0.6411\n",
      "Step 12 Batch Loss: 0.5604 Logits Diff: 0.3303 Running Loss: 0.6349\n",
      "Step 13 Batch Loss: 0.6188 Logits Diff: 0.1994 Running Loss: 0.6338\n",
      "Step 14 Batch Loss: 0.5363 Logits Diff: 0.4884 Running Loss: 0.6273\n",
      "Step 15 Batch Loss: 0.5564 Logits Diff: 0.4874 Running Loss: 0.6229\n",
      "Step 16 Batch Loss: 0.5126 Logits Diff: 0.5293 Running Loss: 0.6164\n",
      "Step 17 Batch Loss: 0.4694 Logits Diff: 0.6620 Running Loss: 0.6082\n",
      "Step 18 Batch Loss: 0.6311 Logits Diff: 0.1298 Running Loss: 0.6094\n",
      "Step 19 Batch Loss: 0.5819 Logits Diff: 0.2450 Running Loss: 0.6080\n",
      "Step 20 Batch Loss: 0.5913 Logits Diff: 0.2267 Running Loss: 0.6072\n",
      "Step 21 Batch Loss: 0.4509 Logits Diff: 0.8479 Running Loss: 0.6001\n",
      "Step 22 Batch Loss: 0.5606 Logits Diff: 0.3178 Running Loss: 0.5984\n",
      "Step 23 Batch Loss: 0.3799 Logits Diff: 1.2168 Running Loss: 0.5893\n",
      "Step 24 Batch Loss: 0.6631 Logits Diff: 0.0627 Running Loss: 0.5923\n",
      "Step 25 Batch Loss: 0.5346 Logits Diff: 0.4829 Running Loss: 0.5900\n",
      "Step 26 Batch Loss: 0.5214 Logits Diff: 0.4375 Running Loss: 0.5875\n",
      "Step 27 Batch Loss: 0.5043 Logits Diff: 0.9929 Running Loss: 0.5845\n",
      "Step 28 Batch Loss: 0.4114 Logits Diff: 0.8959 Running Loss: 0.5786\n",
      "Step 29 Batch Loss: 0.3720 Logits Diff: 1.0284 Running Loss: 0.5717\n",
      "Step 30 Batch Loss: 0.5283 Logits Diff: 0.5092 Running Loss: 0.5703\n",
      "Step 31 Batch Loss: 0.5383 Logits Diff: 0.5346 Running Loss: 0.5693\n",
      "Step 32 Batch Loss: 0.5546 Logits Diff: 0.3159 Running Loss: 0.5688\n",
      "Step 33 Batch Loss: 0.4523 Logits Diff: 0.7941 Running Loss: 0.5654\n",
      "Step 34 Batch Loss: 0.5365 Logits Diff: 0.6141 Running Loss: 0.5646\n",
      "Step 35 Batch Loss: 0.5259 Logits Diff: 0.6086 Running Loss: 0.5635\n",
      "Step 36 Batch Loss: 0.4455 Logits Diff: 0.9832 Running Loss: 0.5603\n",
      "Step 37 Batch Loss: 0.5796 Logits Diff: 0.2782 Running Loss: 0.5608\n",
      "Step 38 Batch Loss: 0.4532 Logits Diff: 0.7520 Running Loss: 0.5581\n",
      "Step 39 Batch Loss: 0.4686 Logits Diff: 0.7415 Running Loss: 0.5558\n",
      "Step 40 Batch Loss: 0.4609 Logits Diff: 0.8242 Running Loss: 0.5535\n",
      "Step 41 Batch Loss: 0.5353 Logits Diff: 0.4690 Running Loss: 0.5531\n",
      "Step 42 Batch Loss: 0.4753 Logits Diff: 0.7911 Running Loss: 0.5513\n",
      "Step 43 Batch Loss: 0.5284 Logits Diff: 0.4297 Running Loss: 0.5508\n",
      "Step 44 Batch Loss: 0.5513 Logits Diff: 0.3653 Running Loss: 0.5508\n",
      "Step 45 Batch Loss: 0.5222 Logits Diff: 0.8219 Running Loss: 0.5501\n",
      "Step 46 Batch Loss: 0.4583 Logits Diff: 0.7730 Running Loss: 0.5482\n",
      "Step 47 Batch Loss: 0.5036 Logits Diff: 0.4909 Running Loss: 0.5473\n",
      "Step 48 Batch Loss: 0.5775 Logits Diff: 0.2911 Running Loss: 0.5479\n",
      "Step 49 Batch Loss: 0.6293 Logits Diff: 0.1675 Running Loss: 0.5495\n",
      "Step 50 Batch Loss: 0.3870 Logits Diff: 1.3800 Running Loss: 0.5463\n",
      "Step 51 Batch Loss: 0.3233 Logits Diff: 2.2852 Running Loss: 0.5420\n",
      "Step 52 Batch Loss: 0.5230 Logits Diff: 0.4229 Running Loss: 0.5417\n",
      "Step 53 Batch Loss: 0.4142 Logits Diff: 0.7896 Running Loss: 0.5393\n",
      "Step 54 Batch Loss: 0.5452 Logits Diff: 0.3550 Running Loss: 0.5394\n",
      "Step 55 Batch Loss: 0.4800 Logits Diff: 0.5535 Running Loss: 0.5384\n",
      "Step 56 Batch Loss: 0.4497 Logits Diff: 0.6954 Running Loss: 0.5368\n",
      "Step 57 Batch Loss: 0.4394 Logits Diff: 0.8982 Running Loss: 0.5351\n",
      "Step 58 Batch Loss: 0.4615 Logits Diff: 0.8047 Running Loss: 0.5339\n",
      "Step 59 Batch Loss: 0.3991 Logits Diff: 0.9126 Running Loss: 0.5316\n",
      "Step 60 Batch Loss: 0.5033 Logits Diff: 0.6123 Running Loss: 0.5312\n",
      "Step 61 Batch Loss: 0.3684 Logits Diff: 1.2233 Running Loss: 0.5285\n",
      "Step 62 Batch Loss: 0.5173 Logits Diff: 0.4587 Running Loss: 0.5284\n",
      "Step 63 Batch Loss: 0.4241 Logits Diff: 1.1604 Running Loss: 0.5267\n",
      "Step 64 Batch Loss: 0.3395 Logits Diff: 1.7459 Running Loss: 0.5238\n",
      "Step 65 Batch Loss: 0.3862 Logits Diff: 1.2529 Running Loss: 0.5218\n",
      "Step 66 Batch Loss: 0.3923 Logits Diff: 0.8887 Running Loss: 0.5198\n",
      "Step 67 Batch Loss: 0.4760 Logits Diff: 0.7442 Running Loss: 0.5192\n",
      "Step 68 Batch Loss: 0.2687 Logits Diff: 1.9143 Running Loss: 0.5156\n",
      "Step 69 Batch Loss: 0.3825 Logits Diff: 1.5815 Running Loss: 0.5137\n",
      "Step 70 Batch Loss: 0.2807 Logits Diff: 1.9644 Running Loss: 0.5104\n",
      "Step 71 Batch Loss: 0.4808 Logits Diff: 0.5631 Running Loss: 0.5100\n",
      "Step 72 Batch Loss: 0.3578 Logits Diff: 1.4512 Running Loss: 0.5079\n",
      "Step 73 Batch Loss: 0.4550 Logits Diff: 0.7527 Running Loss: 0.5072\n",
      "Step 74 Batch Loss: 0.5631 Logits Diff: 0.6851 Running Loss: 0.5079\n",
      "Step 75 Batch Loss: 0.2203 Logits Diff: 2.0681 Running Loss: 0.5041\n",
      "Step 76 Batch Loss: 0.5840 Logits Diff: 0.2432 Running Loss: 0.5052\n",
      "Step 77 Batch Loss: 0.4925 Logits Diff: 0.5784 Running Loss: 0.5050\n",
      "Step 78 Batch Loss: 0.4960 Logits Diff: 0.9590 Running Loss: 0.5049\n",
      "Step 79 Batch Loss: 0.4191 Logits Diff: 1.0875 Running Loss: 0.5038\n",
      "Step 80 Batch Loss: 0.3912 Logits Diff: 0.9552 Running Loss: 0.5024\n",
      "Step 81 Batch Loss: 0.3585 Logits Diff: 2.0593 Running Loss: 0.5007\n",
      "Step 82 Batch Loss: 0.3720 Logits Diff: 1.3124 Running Loss: 0.4991\n",
      "Step 83 Batch Loss: 0.3616 Logits Diff: 2.1531 Running Loss: 0.4975\n",
      "Step 84 Batch Loss: 0.3354 Logits Diff: 1.2543 Running Loss: 0.4956\n",
      "Step 85 Batch Loss: 0.3971 Logits Diff: 1.3546 Running Loss: 0.4944\n",
      "Step 86 Batch Loss: 0.2883 Logits Diff: 1.9536 Running Loss: 0.4921\n",
      "Step 87 Batch Loss: 0.4210 Logits Diff: 1.4544 Running Loss: 0.4913\n",
      "Step 88 Batch Loss: 0.4016 Logits Diff: 0.9809 Running Loss: 0.4902\n",
      "Step 89 Batch Loss: 0.5036 Logits Diff: 0.5337 Running Loss: 0.4904\n",
      "Step 90 Batch Loss: 0.3369 Logits Diff: 1.4996 Running Loss: 0.4887\n",
      "Step 91 Batch Loss: 0.2295 Logits Diff: 2.7781 Running Loss: 0.4859\n",
      "Step 92 Batch Loss: 0.2815 Logits Diff: 1.8845 Running Loss: 0.4837\n",
      "Step 93 Batch Loss: 0.3222 Logits Diff: 1.3797 Running Loss: 0.4820\n",
      "Step 94 Batch Loss: 0.2922 Logits Diff: 1.9223 Running Loss: 0.4800\n",
      "Step 95 Batch Loss: 0.3576 Logits Diff: 2.1929 Running Loss: 0.4787\n",
      "Step 96 Batch Loss: 0.2625 Logits Diff: 1.7461 Running Loss: 0.4765\n",
      "Step 97 Batch Loss: 0.3890 Logits Diff: 0.9277 Running Loss: 0.4756\n",
      "Step 98 Batch Loss: 0.2917 Logits Diff: 1.7019 Running Loss: 0.4737\n",
      "Step 99 Batch Loss: 0.3476 Logits Diff: 1.0774 Running Loss: 0.4725\n",
      "Step 100 Batch Loss: 0.3128 Logits Diff: 1.5816 Running Loss: 0.4709\n",
      "Step 101 Batch Loss: 0.2527 Logits Diff: 2.8418 Running Loss: 0.4687\n",
      "Step 102 Batch Loss: 0.4268 Logits Diff: 0.8143 Running Loss: 0.4683\n",
      "Step 103 Batch Loss: 0.3979 Logits Diff: 1.4639 Running Loss: 0.4677\n",
      "Step 104 Batch Loss: 0.3254 Logits Diff: 1.6743 Running Loss: 0.4663\n",
      "Step 105 Batch Loss: 0.4599 Logits Diff: 0.7002 Running Loss: 0.4662\n",
      "Step 106 Batch Loss: 0.3680 Logits Diff: 1.4402 Running Loss: 0.4653\n",
      "Step 107 Batch Loss: 0.1471 Logits Diff: 5.5751 Running Loss: 0.4624\n",
      "Step 108 Batch Loss: 0.2368 Logits Diff: 2.3991 Running Loss: 0.4603\n",
      "Step 109 Batch Loss: 0.5218 Logits Diff: 0.6555 Running Loss: 0.4609\n",
      "Step 110 Batch Loss: 0.2581 Logits Diff: 1.5955 Running Loss: 0.4590\n",
      "Step 111 Batch Loss: 0.4738 Logits Diff: 1.2304 Running Loss: 0.4592\n",
      "Step 112 Batch Loss: 0.3081 Logits Diff: 1.3223 Running Loss: 0.4578\n"
     ]
    }
   ],
   "source": [
    "# Set models to appropriate mode\n",
    "policy_model.train()\n",
    "reference_model.eval()\n",
    "\n",
    "# Optimizer (you can change the lr and/or optimizer if you wish)\n",
    "optimizer = torch.optim.AdamW(policy_model.parameters(), lr=1e-4)\n",
    "\n",
    "# Initialize stats\n",
    "all_losses = []\n",
    "all_logits_diff = []\n",
    "running_loss = 0.0\n",
    "\n",
    "# TODO: Write the training loop\n",
    "for step, batch in enumerate(tqdm(train_loader, desc=\"Training\")):\n",
    "    tok_chosen   = tokenize_pairs(batch[\"prompt\"], batch[\"chosen\"])\n",
    "    for k, v in tok_chosen.items():\n",
    "        tok_chosen[k] = v.to(device)\n",
    "\n",
    "    tok_rejected = tokenize_pairs(batch[\"prompt\"], batch[\"rejected\"])\n",
    "    for k, v in tok_rejected.items():\n",
    "        tok_rejected[k] = v.to(device)\n",
    "\n",
    "    optimizer.zero_grad()\n",
    "    loss, logits_diff = dpo_loss(policy_model, reference_model,chosen_inputs=tok_chosen,rejected_inputs=tok_rejected,beta=0.1)\n",
    "    loss.backward()\n",
    "    optimizer.step()\n",
    "    batch_loss = loss.item()\n",
    "    avg_logit_diff = logits_diff.mean().item()\n",
    "    running_loss += batch_loss\n",
    "    all_losses.append(batch_loss)\n",
    "    all_logits_diff.append(avg_logit_diff)\n",
    "\n",
    "    print(f\"Step {step} Batch Loss: {batch_loss:.4f} Logits Diff: {avg_logit_diff:.4f} Running Loss: {running_loss/(step+1):.4f}\")\n"
   ]
  },
  {
   "cell_type": "markdown",
   "id": "704d6ad9",
   "metadata": {},
   "source": [
    "Plot the loss curve"
   ]
  },
  {
   "cell_type": "code",
   "execution_count": null,
   "id": "497abb1a",
   "metadata": {
    "execution": {
     "iopub.execute_input": "2025-05-03T12:41:56.301809Z",
     "iopub.status.busy": "2025-05-03T12:41:56.301183Z",
     "iopub.status.idle": "2025-05-03T12:41:56.573455Z",
     "shell.execute_reply": "2025-05-03T12:41:56.572736Z",
     "shell.execute_reply.started": "2025-05-03T12:41:56.301789Z"
    },
    "trusted": true
   },
   "outputs": [
    {
     "data": {
      "image/png": "[encoded data removed]",
      "text/plain": [
       "<Figure size 1000x500 with 1 Axes>"
      ]
     },
     "metadata": {},
     "output_type": "display_data"
    }
   ],
   "source": [
    "plt.figure(figsize=(10, 5))\n",
    "plt.plot(all_losses, label='Loss')\n",
    "plt.xlabel('Batch Number')\n",
    "plt.ylabel('Loss')\n",
    "plt.title('Training Loss Over Time')\n",
    "plt.show()"
   ]
  },
  {
   "cell_type": "markdown",
   "id": "2aafab9d",
   "metadata": {},
   "source": [
    "Plot the logits difference"
   ]
  },
  {
   "cell_type": "code",
   "execution_count": null,
   "id": "0d706cf9",
   "metadata": {
    "execution": {
     "iopub.execute_input": "2025-05-03T12:41:56.575007Z",
     "iopub.status.busy": "2025-05-03T12:41:56.574304Z",
     "iopub.status.idle": "2025-05-03T12:41:56.733417Z",
     "shell.execute_reply": "2025-05-03T12:41:56.732797Z",
     "shell.execute_reply.started": "2025-05-03T12:41:56.574984Z"
    },
    "trusted": true
   },
   "outputs": [
    {
     "data": {
      "image/png": "[encoded data removed]",
      "text/plain": [
       "<Figure size 1000x500 with 1 Axes>"
      ]
     },
     "metadata": {},
     "output_type": "display_data"
    }
   ],
   "source": [
    "plt.figure(figsize=(10, 5))\n",
    "plt.plot(all_logits_diff, label='Logits Difference')\n",
    "plt.xlabel('Batch Number')\n",
    "plt.ylabel('Logits Difference')\n",
    "plt.title('Logits Difference Over Time')\n",
    "plt.show()"
   ]
  },
  {
   "cell_type": "markdown",
   "id": "e840c6d8",
   "metadata": {},
   "source": [
    "#### Evaluation\n",
    "\n",
    "Evaluating the model to see the fruits of our labour."
   ]
  },
  {
   "cell_type": "code",
   "execution_count": 21,
   "id": "3e04cb76",
   "metadata": {
    "execution": {
     "iopub.execute_input": "2025-05-03T12:41:56.734733Z",
     "iopub.status.busy": "2025-05-03T12:41:56.734448Z",
     "iopub.status.idle": "2025-05-03T12:41:56.738286Z",
     "shell.execute_reply": "2025-05-03T12:41:56.737794Z",
     "shell.execute_reply.started": "2025-05-03T12:41:56.734710Z"
    },
    "trusted": true
   },
   "outputs": [],
   "source": [
    "# TODO: Define the function\n",
    "def compute_accuracy(logits_diff):\n",
    "    \"\"\"\n",
    "    Computes accuracy: how often the model prefers the chosen response (logits_diff > 0)\n",
    "\n",
    "    Args:\n",
    "        logits_diff (Tensor): Vector of logits differences for a batch\n",
    "\n",
    "    Returns:\n",
    "        accuracy (float): Accuracy as a decimal (between 0 and 1)\n",
    "    \"\"\"\n",
    "    return (logits_diff > 0).float().mean().item()"
   ]
  },
  {
   "cell_type": "code",
   "execution_count": 22,
   "id": "67e6bb06",
   "metadata": {
    "execution": {
     "iopub.execute_input": "2025-05-03T12:41:56.739210Z",
     "iopub.status.busy": "2025-05-03T12:41:56.738961Z",
     "iopub.status.idle": "2025-05-03T12:42:09.308864Z",
     "shell.execute_reply": "2025-05-03T12:42:09.308085Z",
     "shell.execute_reply.started": "2025-05-03T12:41:56.739188Z"
    },
    "trusted": true
   },
   "outputs": [
    {
     "name": "stdout",
     "output_type": "stream",
     "text": [
      "Reference Model Accuracy: 72.00%\n",
      "Policy Model Accuracy:    93.00%\n"
     ]
    }
   ],
   "source": [
    "# TODO: Define the function\n",
    "def evaluate_dpo_accuracy(model, loader, beta=0.1):\n",
    "    \"\"\"\n",
    "    Evaluates how often the model prefers the chosen response over the rejected one.\n",
    "    Returns: accuracy as a float (0 to 1)\n",
    "    \"\"\"\n",
    "    model.eval()\n",
    "    all_logits_diff = []\n",
    "\n",
    "    with torch.no_grad():\n",
    "        for batch in loader:\n",
    "            chosen_inputs   = tokenize_pairs(batch[\"prompt\"], batch[\"chosen\"])\n",
    "            rejected_inputs = tokenize_pairs(batch[\"prompt\"], batch[\"rejected\"])\n",
    "            for key in chosen_inputs:\n",
    "                chosen_inputs[key]   = chosen_inputs[key].to(device)\n",
    "                rejected_inputs[key] = rejected_inputs[key].to(device)\n",
    "\n",
    "            logp_chosen   = compute_logprob(model, **chosen_inputs)\n",
    "            logp_rejected = compute_logprob(model, **rejected_inputs)\n",
    "\n",
    "            logits_diff = (logp_chosen - logp_rejected) * beta\n",
    "            all_logits_diff.append(logits_diff)\n",
    "\n",
    "    all_logits_diff = torch.cat(all_logits_diff)\n",
    "    return compute_accuracy(all_logits_diff)\n",
    "\n",
    "\n",
    "ref_acc = evaluate_dpo_accuracy(reference_model, test_loader)\n",
    "policy_acc = evaluate_dpo_accuracy(policy_model, test_loader)\n",
    "\n",
    "print(f\"Reference Model Accuracy: {ref_acc * 100:.2f}%\")\n",
    "print(f\"Policy Model Accuracy:    {policy_acc * 100:.2f}%\")"
   ]
  },
  {
   "cell_type": "markdown",
   "id": "a613fa43",
   "metadata": {},
   "source": [
    "Next, you must write code to show a few comparisons between the reference (baseline) and the policy model. Randomly sample 3 prompts from the test set and generate responses from both models."
   ]
  },
  {
   "cell_type": "code",
   "execution_count": null,
   "id": "4b27cb3f",
   "metadata": {
    "execution": {
     "iopub.execute_input": "2025-05-03T12:56:00.717589Z",
     "iopub.status.busy": "2025-05-03T12:56:00.717030Z",
     "iopub.status.idle": "2025-05-03T12:56:11.359759Z",
     "shell.execute_reply": "2025-05-03T12:56:11.359020Z",
     "shell.execute_reply.started": "2025-05-03T12:56:00.717563Z"
    },
    "trusted": true
   },
   "outputs": [
    {
     "name": "stdout",
     "output_type": "stream",
     "text": [
      "\n",
      "============================================================\n",
      "========================= Sample 1 =========================\n",
      "============================================================\n",
      "\n",
      "Prompt:\n",
      "Human: What states were a part of the original 13 colonies?\n",
      "\n",
      "Assistant: The original thirteen colonies in the American colonies were Virginia, North Carolina, South Carolina, Georgia, New Hampshire, Massachusetts Bay, Rhode Island, Connecticut, Pennsylvania, New York, New Jersey, Delaware, and Maryland.\n",
      "\n",
      "Human: What states joined shortly after the original 13?\n",
      "\n",
      "Assistant: Within the first two decades after the original American colonies established independence from Great Britain, the following states joined the Union: Vermont, New Hampshire, Kentucky, Tennessee, Ohio, Indiana, Louisiana, Mississippi, Alabama, Maine, Missouri, Arkansas, and Florida.\n",
      "\n",
      "Human: What about California? What year did it become a state?\n",
      "\n",
      "Assistant: California became the 31st state of the union in 1850.\n",
      "\n",
      "Human: Thanks for helping me to learn a little bit more about the history of the states.\n",
      "\n",
      "Assistant:\n",
      "\n",
      "Reference model response:\n",
      "Have a great day!<|endoftext|>\n",
      "\n",
      "Policy model response:\n",
      "Hello everyone!<|endoftext|>\n",
      "\n",
      "\n",
      "============================================================\n",
      "========================= Sample 2 =========================\n",
      "============================================================\n",
      "\n",
      "Prompt:\n",
      "Human: Can you give me some tips on stopping ants from invading my home?\n",
      "\n",
      "Assistant: Sure. First of all, clean up any spilled food. Make sure that you’re not leaving small crumbs or crumbs that the ants could live in. Ants may be invasive when they travel into homes to find food. Ants feed on the insects and other small creatures that live in your home, but also on food. If you get ants in your home, they can be a little bit harder to get rid of because they feed on all the food you put out.\n",
      "\n",
      "Human: What can I do if they are already in my home?\n",
      "\n",
      "Assistant:\n",
      "\n",
      "Reference model response:\n",
      "The best way to get rid of them is to get them out of your home. Ants are small, and they can’t fly. Ants are insects, and they need to get out of your home in order to survive. Ants\n",
      "\n",
      "Policy model response:\n",
      "Stop them as soon as possible. Ants usually don’t stay in one spot for long, so if they’re getting near your house, get out of the house as soon as possible. Ants can jump up to six inches tall,\n",
      "\n",
      "\n",
      "============================================================\n",
      "========================= Sample 3 =========================\n",
      "============================================================\n",
      "\n",
      "Prompt:\n",
      "Human: How do I calm gas naturally?\n",
      "\n",
      "Assistant: It may be best to avoid certain foods that can cause gas, such as beans, cauliflower, and carbonated drinks.  Eating foods with a lot of fiber and water is also generally a great way to reduce gas, as water and fiber help your digestive system function properly.  If you’re constipated, it can increase the amount of gas produced.  Try eating more fiber and drinking more water, and think about lowering your intake of sugary foods, dairy products, and spicy foods.  Squatting is also a good way to help pass gas, as it makes it easier to squeeze it out.  When you spot yourself about to begin producing gas, you can also try to gently massage your abdomen to help eliminate it.\n",
      "\n",
      "Human: All right, is there anything homeopathic I could take?\n",
      "\n",
      "Assistant: Different homeopathic remedies are designed for a variety of different health issues.  For gas, for example, depending on the severity you might be able to use a remedy called Allium Cepa, or a remedy called Ipecac.  Generally homeopathic remedies aren’t regulated by the FDA, so take care to discuss any homeopathic remedies with your doctor before starting them.\n",
      "\n",
      "Human: That is for gas?\n",
      "\n",
      "Assistant:\n",
      "\n",
      "Reference model response:\n",
      "For other issues, like bloating, you can try something called Nux Vomica.  It’s a herb that’s been used for a long time to help with gas, and it’s safe to take in small amounts.\n",
      "\n",
      "Policy model response:\n",
      "Gas is caused by an imbalance of gases in your digestive tract.  Homeopathic remedies aim to address that imbalance, which can be caused by factors such as spicy foods, dairy products, caffeine, alcohol, and gas-producing foods like beans and cauliflower\n",
      "\n"
     ]
    }
   ],
   "source": [
    "# TODO: Display sample inputs and outputs from each model\n",
    "MAX_LEN = 512\n",
    "NUM_TOKENS = 50\n",
    "reference_model.eval()\n",
    "policy_model.eval()\n",
    "indices = random.sample(range(len(test_data)), 3)\n",
    "\n",
    "for i, idx in enumerate(indices, start=1):\n",
    "    ex = test_data[idx]\n",
    "    prompt = ex[\"prompt\"].strip()\n",
    "\n",
    "    print(\"\\n\" + \"=\"*60)\n",
    "    print(f\" Sample {i} \".center(60, \"=\"))\n",
    "    print(\"=\"*60 + \"\\n\")\n",
    "    print(\"Prompt:\")\n",
    "    print(prompt + \"\\n\")\n",
    "\n",
    "    toks = tokenizer(prompt,return_tensors=\"pt\",truncation=True,max_length=MAX_LEN,padding=True).to(device)\n",
    "    ref_inputs = {\"input_ids\": toks[\"input_ids\"].clone(),\"attention_mask\": toks[\"attention_mask\"].clone()}\n",
    "    ref_response = __generate(reference_model, ref_inputs, NUM_TOKENS, tokenizer).strip()\n",
    "    pol_inputs = {\"input_ids\": toks[\"input_ids\"].clone(),\"attention_mask\": toks[\"attention_mask\"].clone()}\n",
    "    policy_response = __generate(policy_model, pol_inputs, NUM_TOKENS, tokenizer).strip()\n",
    "\n",
    "    print(\"Reference model response:\")\n",
    "    print(ref_response + \"\\n\")\n",
    "    print(\"Policy model response:\")\n",
    "    print(policy_response + \"\\n\")\n"
   ]
  }
 ],
 "metadata": {
  "kaggle": {
   "accelerator": "gpu",
   "dataSources": [
    {
     "isSourceIdPinned": true,
     "modelId": 324545,
     "modelInstanceId": 304075,
     "sourceId": 366738,
     "sourceType": "modelInstanceVersion"
    }
   ],
   "dockerImageVersionId": 31011,
   "isGpuEnabled": true,
   "isInternetEnabled": true,
   "language": "python",
   "sourceType": "notebook"
  },
  "kernelspec": {
   "display_name": "Python 3",
   "language": "python",
   "name": "python3"
  },
  "language_info": {
   "codemirror_mode": {
    "name": "ipython",
    "version": 3
   },
   "file_extension": ".py",
   "mimetype": "text/x-python",
   "name": "python",
   "nbconvert_exporter": "python",
   "pygments_lexer": "ipython3",
   "version": "3.10.13"
  }
 },
 "nbformat": 4,
 "nbformat_minor": 5
}
